{
 "cells": [
  {
   "cell_type": "markdown",
   "metadata": {},
   "source": [
    "# Moving Average Crossover trading strategy with backtest\n",
    "\n",
    "\n",
    "variables that can be changed for testing purposes:\n",
    "- `ticker`\n",
    "- `ema_fast` and `ema_slow` exponencial moving averages\n",
    "- `profit_target` \n",
    "\n",
    "Script is getting daily stock data from Yahoo! Finance API. Exponencial moving average crossover strategy is implemented - both for long and short entries. Long entry is also having profit target option if `profit_target` variable is set to be greater than 1.0. Profit target is implemented at market open. Regular buy and sell positions based on signal are done at market close for backtesting purposes.\n",
    "\n",
    "So let's say, crossover signals buy on Monday, the actual buy is executed at Market close price on Tuesday (to prevent backtesting bias).\n"
   ]
  },
  {
   "cell_type": "code",
   "execution_count": 233,
   "metadata": {},
   "outputs": [
    {
     "data": {
      "text/html": [
       "<style>.container { width:100% !important; }</style>"
      ],
      "text/plain": [
       "<IPython.core.display.HTML object>"
      ]
     },
     "metadata": {},
     "output_type": "display_data"
    }
   ],
   "source": [
    "from IPython.core.display import display, HTML\n",
    "display(HTML(\"<style>.container { width:100% !important; }</style>\"))\n",
    "\n",
    "# ___library_import_statements___\n",
    "import pandas as pd\n",
    "import pandas_datareader.data as web\n",
    "import numpy as np\n",
    "import talib as ta\n",
    "import matplotlib.pyplot as plt\n",
    "import datetime\n",
    "import time\n",
    "\n",
    "# for pandas_datareader, otherwise it might have issues, sometimes there is some version mismatch\n",
    "pd.core.common.is_list_like = pd.api.types.is_list_like\n",
    "\n",
    "# make pandas to print dataframes nicely\n",
    "pd.set_option('expand_frame_repr', False)  \n",
    "\n",
    "#newest yahoo API \n",
    "import yfinance as yahoo_finance\n",
    "\n",
    "#optional \n",
    "#yahoo_finance.pdr_override()\n",
    "\n",
    "%matplotlib inline\n",
    "\n",
    "# was giving me some warnings\n",
    "from pandas.plotting import register_matplotlib_converters\n",
    "register_matplotlib_converters()"
   ]
  },
  {
   "cell_type": "code",
   "execution_count": null,
   "metadata": {},
   "outputs": [],
   "source": [
    "\n"
   ]
  },
  {
   "cell_type": "markdown",
   "metadata": {},
   "source": [
    "#### Variable definitions"
   ]
  },
  {
   "cell_type": "code",
   "execution_count": 234,
   "metadata": {},
   "outputs": [],
   "source": [
    "start_time = datetime.datetime(2018, 1, 1)\n",
    "#end_time = datetime.datetime(2019, 1, 20)\n",
    "end_time = datetime.datetime.now().date().isoformat()         # today\n",
    "\n",
    "ticker = 'AAPL'"
   ]
  },
  {
   "cell_type": "markdown",
   "metadata": {},
   "source": [
    "### Function definitions"
   ]
  },
  {
   "cell_type": "code",
   "execution_count": 235,
   "metadata": {},
   "outputs": [],
   "source": [
    "def get_data(ticker):\n",
    "    # yahoo gives only daily historical data\n",
    "    connected = False\n",
    "    while not connected:\n",
    "        try:\n",
    "            df = web.get_data_yahoo(ticker, start=start_time, end=end_time)\n",
    "            connected = True\n",
    "            print('connected to yahoo')\n",
    "        except Exception as e:\n",
    "            print(\"type error: \" + str(e))\n",
    "            time.sleep( 5 )\n",
    "            pass   \n",
    "\n",
    "    # use numerical integer index instead of date    \n",
    "    df = df.reset_index()\n",
    "    #print(df.head(5))\n",
    "    return df"
   ]
  },
  {
   "cell_type": "markdown",
   "metadata": {},
   "source": [
    "## getting crypto data for multiple timeframes\n",
    "every timeframe will its own dataframe (crypto API provides various timeframe aggregation for free)"
   ]
  },
  {
   "cell_type": "code",
   "execution_count": 236,
   "metadata": {},
   "outputs": [],
   "source": [
    "# to be done if needed"
   ]
  },
  {
   "cell_type": "code",
   "execution_count": null,
   "metadata": {},
   "outputs": [],
   "source": []
  },
  {
   "cell_type": "code",
   "execution_count": null,
   "metadata": {},
   "outputs": [],
   "source": []
  },
  {
   "cell_type": "code",
   "execution_count": null,
   "metadata": {},
   "outputs": [],
   "source": []
  },
  {
   "cell_type": "code",
   "execution_count": null,
   "metadata": {},
   "outputs": [],
   "source": []
  },
  {
   "cell_type": "markdown",
   "metadata": {},
   "source": [
    "### other function definitions"
   ]
  },
  {
   "cell_type": "code",
   "execution_count": 237,
   "metadata": {},
   "outputs": [],
   "source": [
    "def compute_technical_indicators(df):\n",
    "    \n",
    "    df['EMA10'] = ta.EMA(df['Adj Close'].values, timeperiod=10)   \n",
    "    df['EMA20'] = ta.EMA(df['Adj Close'].values, timeperiod=20)\n",
    "    df['EMA30'] = ta.EMA(df['Adj Close'].values, timeperiod=30)\n",
    "    df['EMA40'] = ta.EMA(df['Adj Close'].values, timeperiod=40)    \n",
    "    \n",
    "    df['EMA50'] = ta.EMA(df['Adj Close'].values, timeperiod=50)   \n",
    "    df['EMA100'] = ta.EMA(df['Adj Close'].values, timeperiod=100)\n",
    "    df['EMA150'] = ta.EMA(df['Adj Close'].values, timeperiod=150)\n",
    "    df['EMA200'] = ta.EMA(df['Adj Close'].values, timeperiod=200) \n",
    "\n",
    "    df.tail()\n",
    "\n",
    "    return df"
   ]
  },
  {
   "cell_type": "code",
   "execution_count": 238,
   "metadata": {},
   "outputs": [],
   "source": [
    "def plot_data(df):\n",
    "    # plot price\n",
    "    plt.figure(figsize=(15,2.5))\n",
    "    plt.title('Stock data ' + str(ticker))\n",
    "    plt.plot(df['Date'], df['Adj Close'])\n",
    "    #plt.title('Price chart (Adj Close) ' + str(ticker))\n",
    "    plt.show()\n",
    "    return None"
   ]
  },
  {
   "cell_type": "code",
   "execution_count": null,
   "metadata": {},
   "outputs": [],
   "source": []
  },
  {
   "cell_type": "code",
   "execution_count": 239,
   "metadata": {},
   "outputs": [
    {
     "name": "stdout",
     "output_type": "stream",
     "text": [
      "connected to yahoo\n"
     ]
    }
   ],
   "source": [
    "df = get_data(ticker)"
   ]
  },
  {
   "cell_type": "code",
   "execution_count": 240,
   "metadata": {},
   "outputs": [
    {
     "data": {
      "text/html": [
       "<div>\n",
       "<style scoped>\n",
       "    .dataframe tbody tr th:only-of-type {\n",
       "        vertical-align: middle;\n",
       "    }\n",
       "\n",
       "    .dataframe tbody tr th {\n",
       "        vertical-align: top;\n",
       "    }\n",
       "\n",
       "    .dataframe thead th {\n",
       "        text-align: right;\n",
       "    }\n",
       "</style>\n",
       "<table border=\"1\" class=\"dataframe\">\n",
       "  <thead>\n",
       "    <tr style=\"text-align: right;\">\n",
       "      <th></th>\n",
       "      <th>Date</th>\n",
       "      <th>High</th>\n",
       "      <th>Low</th>\n",
       "      <th>Open</th>\n",
       "      <th>Close</th>\n",
       "      <th>Volume</th>\n",
       "      <th>Adj Close</th>\n",
       "    </tr>\n",
       "  </thead>\n",
       "  <tbody>\n",
       "    <tr>\n",
       "      <th>0</th>\n",
       "      <td>2018-01-02</td>\n",
       "      <td>43.075001</td>\n",
       "      <td>42.314999</td>\n",
       "      <td>42.540001</td>\n",
       "      <td>43.064999</td>\n",
       "      <td>102223600.0</td>\n",
       "      <td>41.105534</td>\n",
       "    </tr>\n",
       "    <tr>\n",
       "      <th>1</th>\n",
       "      <td>2018-01-03</td>\n",
       "      <td>43.637501</td>\n",
       "      <td>42.990002</td>\n",
       "      <td>43.132500</td>\n",
       "      <td>43.057499</td>\n",
       "      <td>118071600.0</td>\n",
       "      <td>41.098373</td>\n",
       "    </tr>\n",
       "    <tr>\n",
       "      <th>2</th>\n",
       "      <td>2018-01-04</td>\n",
       "      <td>43.367500</td>\n",
       "      <td>43.020000</td>\n",
       "      <td>43.134998</td>\n",
       "      <td>43.257500</td>\n",
       "      <td>89738400.0</td>\n",
       "      <td>41.289268</td>\n",
       "    </tr>\n",
       "    <tr>\n",
       "      <th>3</th>\n",
       "      <td>2018-01-05</td>\n",
       "      <td>43.842499</td>\n",
       "      <td>43.262501</td>\n",
       "      <td>43.360001</td>\n",
       "      <td>43.750000</td>\n",
       "      <td>94640000.0</td>\n",
       "      <td>41.759361</td>\n",
       "    </tr>\n",
       "    <tr>\n",
       "      <th>4</th>\n",
       "      <td>2018-01-08</td>\n",
       "      <td>43.902500</td>\n",
       "      <td>43.482498</td>\n",
       "      <td>43.587502</td>\n",
       "      <td>43.587502</td>\n",
       "      <td>82271200.0</td>\n",
       "      <td>41.604263</td>\n",
       "    </tr>\n",
       "  </tbody>\n",
       "</table>\n",
       "</div>"
      ],
      "text/plain": [
       "        Date       High        Low       Open      Close       Volume  Adj Close\n",
       "0 2018-01-02  43.075001  42.314999  42.540001  43.064999  102223600.0  41.105534\n",
       "1 2018-01-03  43.637501  42.990002  43.132500  43.057499  118071600.0  41.098373\n",
       "2 2018-01-04  43.367500  43.020000  43.134998  43.257500   89738400.0  41.289268\n",
       "3 2018-01-05  43.842499  43.262501  43.360001  43.750000   94640000.0  41.759361\n",
       "4 2018-01-08  43.902500  43.482498  43.587502  43.587502   82271200.0  41.604263"
      ]
     },
     "execution_count": 240,
     "metadata": {},
     "output_type": "execute_result"
    }
   ],
   "source": [
    "df.head()"
   ]
  },
  {
   "cell_type": "code",
   "execution_count": 241,
   "metadata": {},
   "outputs": [],
   "source": [
    "df = compute_technical_indicators(df)"
   ]
  },
  {
   "cell_type": "code",
   "execution_count": 242,
   "metadata": {},
   "outputs": [
    {
     "data": {
      "text/html": [
       "<div>\n",
       "<style scoped>\n",
       "    .dataframe tbody tr th:only-of-type {\n",
       "        vertical-align: middle;\n",
       "    }\n",
       "\n",
       "    .dataframe tbody tr th {\n",
       "        vertical-align: top;\n",
       "    }\n",
       "\n",
       "    .dataframe thead th {\n",
       "        text-align: right;\n",
       "    }\n",
       "</style>\n",
       "<table border=\"1\" class=\"dataframe\">\n",
       "  <thead>\n",
       "    <tr style=\"text-align: right;\">\n",
       "      <th></th>\n",
       "      <th>Date</th>\n",
       "      <th>High</th>\n",
       "      <th>Low</th>\n",
       "      <th>Open</th>\n",
       "      <th>Close</th>\n",
       "      <th>Volume</th>\n",
       "      <th>Adj Close</th>\n",
       "      <th>EMA10</th>\n",
       "      <th>EMA20</th>\n",
       "      <th>EMA30</th>\n",
       "      <th>EMA40</th>\n",
       "      <th>EMA50</th>\n",
       "      <th>EMA100</th>\n",
       "      <th>EMA150</th>\n",
       "      <th>EMA200</th>\n",
       "    </tr>\n",
       "  </thead>\n",
       "  <tbody>\n",
       "    <tr>\n",
       "      <th>0</th>\n",
       "      <td>2018-01-02</td>\n",
       "      <td>43.075001</td>\n",
       "      <td>42.314999</td>\n",
       "      <td>42.540001</td>\n",
       "      <td>43.064999</td>\n",
       "      <td>102223600.0</td>\n",
       "      <td>41.105534</td>\n",
       "      <td>NaN</td>\n",
       "      <td>NaN</td>\n",
       "      <td>NaN</td>\n",
       "      <td>NaN</td>\n",
       "      <td>NaN</td>\n",
       "      <td>NaN</td>\n",
       "      <td>NaN</td>\n",
       "      <td>NaN</td>\n",
       "    </tr>\n",
       "    <tr>\n",
       "      <th>1</th>\n",
       "      <td>2018-01-03</td>\n",
       "      <td>43.637501</td>\n",
       "      <td>42.990002</td>\n",
       "      <td>43.132500</td>\n",
       "      <td>43.057499</td>\n",
       "      <td>118071600.0</td>\n",
       "      <td>41.098373</td>\n",
       "      <td>NaN</td>\n",
       "      <td>NaN</td>\n",
       "      <td>NaN</td>\n",
       "      <td>NaN</td>\n",
       "      <td>NaN</td>\n",
       "      <td>NaN</td>\n",
       "      <td>NaN</td>\n",
       "      <td>NaN</td>\n",
       "    </tr>\n",
       "    <tr>\n",
       "      <th>2</th>\n",
       "      <td>2018-01-04</td>\n",
       "      <td>43.367500</td>\n",
       "      <td>43.020000</td>\n",
       "      <td>43.134998</td>\n",
       "      <td>43.257500</td>\n",
       "      <td>89738400.0</td>\n",
       "      <td>41.289268</td>\n",
       "      <td>NaN</td>\n",
       "      <td>NaN</td>\n",
       "      <td>NaN</td>\n",
       "      <td>NaN</td>\n",
       "      <td>NaN</td>\n",
       "      <td>NaN</td>\n",
       "      <td>NaN</td>\n",
       "      <td>NaN</td>\n",
       "    </tr>\n",
       "    <tr>\n",
       "      <th>3</th>\n",
       "      <td>2018-01-05</td>\n",
       "      <td>43.842499</td>\n",
       "      <td>43.262501</td>\n",
       "      <td>43.360001</td>\n",
       "      <td>43.750000</td>\n",
       "      <td>94640000.0</td>\n",
       "      <td>41.759361</td>\n",
       "      <td>NaN</td>\n",
       "      <td>NaN</td>\n",
       "      <td>NaN</td>\n",
       "      <td>NaN</td>\n",
       "      <td>NaN</td>\n",
       "      <td>NaN</td>\n",
       "      <td>NaN</td>\n",
       "      <td>NaN</td>\n",
       "    </tr>\n",
       "    <tr>\n",
       "      <th>4</th>\n",
       "      <td>2018-01-08</td>\n",
       "      <td>43.902500</td>\n",
       "      <td>43.482498</td>\n",
       "      <td>43.587502</td>\n",
       "      <td>43.587502</td>\n",
       "      <td>82271200.0</td>\n",
       "      <td>41.604263</td>\n",
       "      <td>NaN</td>\n",
       "      <td>NaN</td>\n",
       "      <td>NaN</td>\n",
       "      <td>NaN</td>\n",
       "      <td>NaN</td>\n",
       "      <td>NaN</td>\n",
       "      <td>NaN</td>\n",
       "      <td>NaN</td>\n",
       "    </tr>\n",
       "  </tbody>\n",
       "</table>\n",
       "</div>"
      ],
      "text/plain": [
       "        Date       High        Low       Open      Close       Volume  Adj Close  EMA10  EMA20  EMA30  EMA40  EMA50  EMA100  EMA150  EMA200\n",
       "0 2018-01-02  43.075001  42.314999  42.540001  43.064999  102223600.0  41.105534    NaN    NaN    NaN    NaN    NaN     NaN     NaN     NaN\n",
       "1 2018-01-03  43.637501  42.990002  43.132500  43.057499  118071600.0  41.098373    NaN    NaN    NaN    NaN    NaN     NaN     NaN     NaN\n",
       "2 2018-01-04  43.367500  43.020000  43.134998  43.257500   89738400.0  41.289268    NaN    NaN    NaN    NaN    NaN     NaN     NaN     NaN\n",
       "3 2018-01-05  43.842499  43.262501  43.360001  43.750000   94640000.0  41.759361    NaN    NaN    NaN    NaN    NaN     NaN     NaN     NaN\n",
       "4 2018-01-08  43.902500  43.482498  43.587502  43.587502   82271200.0  41.604263    NaN    NaN    NaN    NaN    NaN     NaN     NaN     NaN"
      ]
     },
     "execution_count": 242,
     "metadata": {},
     "output_type": "execute_result"
    }
   ],
   "source": [
    "df.head()"
   ]
  },
  {
   "cell_type": "code",
   "execution_count": 243,
   "metadata": {},
   "outputs": [
    {
     "data": {
      "image/png": "[encoded data removed]",
      "text/plain": [
       "<Figure size 1080x180 with 1 Axes>"
      ]
     },
     "metadata": {
      "needs_background": "light"
     },
     "output_type": "display_data"
    }
   ],
   "source": [
    "plot_data(df)"
   ]
  },
  {
   "cell_type": "code",
   "execution_count": null,
   "metadata": {},
   "outputs": [],
   "source": []
  },
  {
   "cell_type": "code",
   "execution_count": 244,
   "metadata": {},
   "outputs": [],
   "source": [
    "def crossover_signal(df, ema_fast, ema_slow):\n",
    "    # ema variable is string e.g. 'EMA50'\n",
    "    # it is chosen column name from df\n",
    "    \n",
    "    # adds two columns to dataframe with buy and sell signals\n",
    "    buy_list = []\n",
    "    sell_list = []\n",
    "    action_list = []\n",
    "    \n",
    "    #i buy day after I evaluate closing prices\n",
    "    # so buying day after \n",
    "    \n",
    "    for i in range(2,len(df['Adj Close'])):\n",
    "        if (df[ema_fast][i-1] > df[ema_slow][i-1]) and (df[ema_fast][i-2] < df[ema_slow][i-2]):         # buy signal      \n",
    "            \n",
    "            print('BUY', df['Adj Close'][i])\n",
    "            \n",
    "            buy_list.append(df['Adj Close'][i])\n",
    "            sell_list.append(np.nan)\n",
    "            action_list.append(1)\n",
    "        elif (df[ema_fast][i-1] < df[ema_slow][i-1]) and (df[ema_fast][i-2] > df[ema_slow][i-2]):       # sell signal     \n",
    "            \n",
    "            print('SELL',df['Adj Close'][i])\n",
    "            \n",
    "            buy_list.append(np.nan)\n",
    "            sell_list.append(df['Adj Close'][i]) \n",
    "            action_list.append(-1)\n",
    "        else:\n",
    "            buy_list.append(np.nan)\n",
    "            sell_list.append(np.nan)\n",
    "            action_list.append(0)\n",
    "         \n",
    "    buy_list = pd.Series(buy_list, name='Buy')\n",
    "    sell_list = pd.Series(sell_list, name='Sell') \n",
    "    action_list = pd.Series(action_list, name='Action')\n",
    "        \n",
    "    df = df.join(buy_list)\n",
    "    df = df.join(sell_list) \n",
    "    df = df.join(action_list)\n",
    "        \n",
    "        \n",
    "    print(buy_list)    \n",
    "        \n",
    "        \n",
    "    return df"
   ]
  },
  {
   "cell_type": "code",
   "execution_count": 245,
   "metadata": {},
   "outputs": [],
   "source": [
    "def plot_signals(df, ticker, ema_fast, ema_slow):\n",
    "    # plot price\n",
    "    plt.figure(figsize=(30,10))\n",
    "    plt.plot(df['Date'], df['Adj Close'])\n",
    "    plt.title('Price chart (Adj Close) ' + str(ticker))\n",
    "    plt.show()\n",
    "\n",
    "    # plot  values and significant levels\n",
    "    plt.figure(figsize=(30,10))\n",
    "    plt.title('EMA trading strategy chart ' + str(ticker) + str(ticker) )\n",
    "    plt.plot(df['Date'], df['Adj Close'], label='Adj Close')\n",
    "\n",
    "    plt.plot(df['Date'], df['High'], label='High', alpha=0.3)\n",
    "    plt.plot(df['Date'], df['Low'], label='Low', alpha=0.3)\n",
    "\n",
    "    plt.plot(df['Date'], df[ema_fast], label=str(ema_fast), alpha=0.3)\n",
    "    plt.plot(df['Date'], df[ema_slow], label=str(ema_slow), alpha=0.3)\n",
    "\n",
    "    # scatter plot cannot convert dates correctly\n",
    "    #plt.scatter(df['Date'], df['Buy'], label='Buy', marker='^')\n",
    "    #plt.scatter(df['Date'], df['Sell'], label='Sell', marker='v')\n",
    "    \n",
    "    #temp workaround for scatter plots\n",
    "    #df = df.fillna(0)\n",
    "    plt.plot(df['Date'], df['Buy'], label='Buy', linestyle='None', marker='^', markersize=10, color='green')\n",
    "    plt.plot(df['Date'], df['Sell'], label='Sell', linestyle='None', marker='v', markersize=10, color='red')    \n",
    "\n",
    "    plt.legend()\n",
    "\n",
    "    plt.show()"
   ]
  },
  {
   "cell_type": "markdown",
   "metadata": {},
   "source": [
    "#### Graph with trading signals"
   ]
  },
  {
   "cell_type": "code",
   "execution_count": 246,
   "metadata": {},
   "outputs": [
    {
     "data": {
      "text/html": [
       "<div>\n",
       "<style scoped>\n",
       "    .dataframe tbody tr th:only-of-type {\n",
       "        vertical-align: middle;\n",
       "    }\n",
       "\n",
       "    .dataframe tbody tr th {\n",
       "        vertical-align: top;\n",
       "    }\n",
       "\n",
       "    .dataframe thead th {\n",
       "        text-align: right;\n",
       "    }\n",
       "</style>\n",
       "<table border=\"1\" class=\"dataframe\">\n",
       "  <thead>\n",
       "    <tr style=\"text-align: right;\">\n",
       "      <th></th>\n",
       "      <th>Date</th>\n",
       "      <th>High</th>\n",
       "      <th>Low</th>\n",
       "      <th>Open</th>\n",
       "      <th>Close</th>\n",
       "      <th>Volume</th>\n",
       "      <th>Adj Close</th>\n",
       "      <th>EMA10</th>\n",
       "      <th>EMA20</th>\n",
       "      <th>EMA30</th>\n",
       "      <th>EMA40</th>\n",
       "      <th>EMA50</th>\n",
       "      <th>EMA100</th>\n",
       "      <th>EMA150</th>\n",
       "      <th>EMA200</th>\n",
       "    </tr>\n",
       "  </thead>\n",
       "  <tbody>\n",
       "    <tr>\n",
       "      <th>0</th>\n",
       "      <td>2018-01-02</td>\n",
       "      <td>43.075001</td>\n",
       "      <td>42.314999</td>\n",
       "      <td>42.540001</td>\n",
       "      <td>43.064999</td>\n",
       "      <td>102223600.0</td>\n",
       "      <td>41.105534</td>\n",
       "      <td>NaN</td>\n",
       "      <td>NaN</td>\n",
       "      <td>NaN</td>\n",
       "      <td>NaN</td>\n",
       "      <td>NaN</td>\n",
       "      <td>NaN</td>\n",
       "      <td>NaN</td>\n",
       "      <td>NaN</td>\n",
       "    </tr>\n",
       "    <tr>\n",
       "      <th>1</th>\n",
       "      <td>2018-01-03</td>\n",
       "      <td>43.637501</td>\n",
       "      <td>42.990002</td>\n",
       "      <td>43.132500</td>\n",
       "      <td>43.057499</td>\n",
       "      <td>118071600.0</td>\n",
       "      <td>41.098373</td>\n",
       "      <td>NaN</td>\n",
       "      <td>NaN</td>\n",
       "      <td>NaN</td>\n",
       "      <td>NaN</td>\n",
       "      <td>NaN</td>\n",
       "      <td>NaN</td>\n",
       "      <td>NaN</td>\n",
       "      <td>NaN</td>\n",
       "    </tr>\n",
       "    <tr>\n",
       "      <th>2</th>\n",
       "      <td>2018-01-04</td>\n",
       "      <td>43.367500</td>\n",
       "      <td>43.020000</td>\n",
       "      <td>43.134998</td>\n",
       "      <td>43.257500</td>\n",
       "      <td>89738400.0</td>\n",
       "      <td>41.289268</td>\n",
       "      <td>NaN</td>\n",
       "      <td>NaN</td>\n",
       "      <td>NaN</td>\n",
       "      <td>NaN</td>\n",
       "      <td>NaN</td>\n",
       "      <td>NaN</td>\n",
       "      <td>NaN</td>\n",
       "      <td>NaN</td>\n",
       "    </tr>\n",
       "    <tr>\n",
       "      <th>3</th>\n",
       "      <td>2018-01-05</td>\n",
       "      <td>43.842499</td>\n",
       "      <td>43.262501</td>\n",
       "      <td>43.360001</td>\n",
       "      <td>43.750000</td>\n",
       "      <td>94640000.0</td>\n",
       "      <td>41.759361</td>\n",
       "      <td>NaN</td>\n",
       "      <td>NaN</td>\n",
       "      <td>NaN</td>\n",
       "      <td>NaN</td>\n",
       "      <td>NaN</td>\n",
       "      <td>NaN</td>\n",
       "      <td>NaN</td>\n",
       "      <td>NaN</td>\n",
       "    </tr>\n",
       "    <tr>\n",
       "      <th>4</th>\n",
       "      <td>2018-01-08</td>\n",
       "      <td>43.902500</td>\n",
       "      <td>43.482498</td>\n",
       "      <td>43.587502</td>\n",
       "      <td>43.587502</td>\n",
       "      <td>82271200.0</td>\n",
       "      <td>41.604263</td>\n",
       "      <td>NaN</td>\n",
       "      <td>NaN</td>\n",
       "      <td>NaN</td>\n",
       "      <td>NaN</td>\n",
       "      <td>NaN</td>\n",
       "      <td>NaN</td>\n",
       "      <td>NaN</td>\n",
       "      <td>NaN</td>\n",
       "    </tr>\n",
       "  </tbody>\n",
       "</table>\n",
       "</div>"
      ],
      "text/plain": [
       "        Date       High        Low       Open      Close       Volume  Adj Close  EMA10  EMA20  EMA30  EMA40  EMA50  EMA100  EMA150  EMA200\n",
       "0 2018-01-02  43.075001  42.314999  42.540001  43.064999  102223600.0  41.105534    NaN    NaN    NaN    NaN    NaN     NaN     NaN     NaN\n",
       "1 2018-01-03  43.637501  42.990002  43.132500  43.057499  118071600.0  41.098373    NaN    NaN    NaN    NaN    NaN     NaN     NaN     NaN\n",
       "2 2018-01-04  43.367500  43.020000  43.134998  43.257500   89738400.0  41.289268    NaN    NaN    NaN    NaN    NaN     NaN     NaN     NaN\n",
       "3 2018-01-05  43.842499  43.262501  43.360001  43.750000   94640000.0  41.759361    NaN    NaN    NaN    NaN    NaN     NaN     NaN     NaN\n",
       "4 2018-01-08  43.902500  43.482498  43.587502  43.587502   82271200.0  41.604263    NaN    NaN    NaN    NaN    NaN     NaN     NaN     NaN"
      ]
     },
     "execution_count": 246,
     "metadata": {},
     "output_type": "execute_result"
    }
   ],
   "source": [
    "df.head()"
   ]
  },
  {
   "cell_type": "code",
   "execution_count": 247,
   "metadata": {},
   "outputs": [
    {
     "name": "stdout",
     "output_type": "stream",
     "text": [
      "SELL 40.74361801147461\n",
      "BUY 41.72356414794922\n",
      "SELL 39.21017837524414\n",
      "BUY 44.36393737792969\n",
      "SELL 49.183006286621094\n",
      "BUY 42.380794525146484\n",
      "SELL 43.52073287963867\n",
      "BUY 48.31648254394531\n",
      "SELL 70.31636810302734\n",
      "BUY 71.23554229736328\n",
      "0     NaN\n",
      "1     NaN\n",
      "2     NaN\n",
      "3     NaN\n",
      "4     NaN\n",
      "       ..\n",
      "731   NaN\n",
      "732   NaN\n",
      "733   NaN\n",
      "734   NaN\n",
      "735   NaN\n",
      "Name: Buy, Length: 736, dtype: float64\n"
     ]
    },
    {
     "data": {
      "text/html": [
       "<div>\n",
       "<style scoped>\n",
       "    .dataframe tbody tr th:only-of-type {\n",
       "        vertical-align: middle;\n",
       "    }\n",
       "\n",
       "    .dataframe tbody tr th {\n",
       "        vertical-align: top;\n",
       "    }\n",
       "\n",
       "    .dataframe thead th {\n",
       "        text-align: right;\n",
       "    }\n",
       "</style>\n",
       "<table border=\"1\" class=\"dataframe\">\n",
       "  <thead>\n",
       "    <tr style=\"text-align: right;\">\n",
       "      <th></th>\n",
       "      <th>Date</th>\n",
       "      <th>High</th>\n",
       "      <th>Low</th>\n",
       "      <th>Open</th>\n",
       "      <th>Close</th>\n",
       "      <th>Volume</th>\n",
       "      <th>Adj Close</th>\n",
       "      <th>EMA10</th>\n",
       "      <th>EMA20</th>\n",
       "      <th>EMA30</th>\n",
       "      <th>EMA40</th>\n",
       "      <th>EMA50</th>\n",
       "      <th>EMA100</th>\n",
       "      <th>EMA150</th>\n",
       "      <th>EMA200</th>\n",
       "      <th>Buy</th>\n",
       "      <th>Sell</th>\n",
       "      <th>Action</th>\n",
       "    </tr>\n",
       "  </thead>\n",
       "  <tbody>\n",
       "    <tr>\n",
       "      <th>733</th>\n",
       "      <td>2020-11-30</td>\n",
       "      <td>120.970001</td>\n",
       "      <td>116.809998</td>\n",
       "      <td>116.970001</td>\n",
       "      <td>119.050003</td>\n",
       "      <td>169410200.0</td>\n",
       "      <td>119.050003</td>\n",
       "      <td>117.114626</td>\n",
       "      <td>116.867407</td>\n",
       "      <td>116.565523</td>\n",
       "      <td>116.141949</td>\n",
       "      <td>115.510198</td>\n",
       "      <td>110.135591</td>\n",
       "      <td>104.022778</td>\n",
       "      <td>98.520483</td>\n",
       "      <td>NaN</td>\n",
       "      <td>NaN</td>\n",
       "      <td>0.0</td>\n",
       "    </tr>\n",
       "    <tr>\n",
       "      <th>734</th>\n",
       "      <td>2020-12-01</td>\n",
       "      <td>123.470001</td>\n",
       "      <td>120.010002</td>\n",
       "      <td>121.010002</td>\n",
       "      <td>122.720001</td>\n",
       "      <td>128166800.0</td>\n",
       "      <td>122.720001</td>\n",
       "      <td>118.133785</td>\n",
       "      <td>117.424797</td>\n",
       "      <td>116.962586</td>\n",
       "      <td>116.462830</td>\n",
       "      <td>115.792936</td>\n",
       "      <td>110.384787</td>\n",
       "      <td>104.270423</td>\n",
       "      <td>98.761274</td>\n",
       "      <td>NaN</td>\n",
       "      <td>NaN</td>\n",
       "      <td>0.0</td>\n",
       "    </tr>\n",
       "    <tr>\n",
       "      <th>735</th>\n",
       "      <td>2020-12-02</td>\n",
       "      <td>123.370003</td>\n",
       "      <td>120.889999</td>\n",
       "      <td>122.019997</td>\n",
       "      <td>123.080002</td>\n",
       "      <td>89004200.0</td>\n",
       "      <td>123.080002</td>\n",
       "      <td>119.033097</td>\n",
       "      <td>117.963388</td>\n",
       "      <td>117.357258</td>\n",
       "      <td>116.785619</td>\n",
       "      <td>116.078703</td>\n",
       "      <td>110.636178</td>\n",
       "      <td>104.519557</td>\n",
       "      <td>99.003252</td>\n",
       "      <td>NaN</td>\n",
       "      <td>NaN</td>\n",
       "      <td>0.0</td>\n",
       "    </tr>\n",
       "    <tr>\n",
       "      <th>736</th>\n",
       "      <td>2020-12-03</td>\n",
       "      <td>123.779999</td>\n",
       "      <td>122.209999</td>\n",
       "      <td>123.519997</td>\n",
       "      <td>122.940002</td>\n",
       "      <td>78967600.0</td>\n",
       "      <td>122.940002</td>\n",
       "      <td>119.743444</td>\n",
       "      <td>118.437351</td>\n",
       "      <td>117.717435</td>\n",
       "      <td>117.085833</td>\n",
       "      <td>116.347774</td>\n",
       "      <td>110.879818</td>\n",
       "      <td>104.763536</td>\n",
       "      <td>99.241428</td>\n",
       "      <td>NaN</td>\n",
       "      <td>NaN</td>\n",
       "      <td>NaN</td>\n",
       "    </tr>\n",
       "    <tr>\n",
       "      <th>737</th>\n",
       "      <td>2020-12-04</td>\n",
       "      <td>122.860001</td>\n",
       "      <td>121.519997</td>\n",
       "      <td>122.599998</td>\n",
       "      <td>122.250000</td>\n",
       "      <td>78133200.0</td>\n",
       "      <td>122.250000</td>\n",
       "      <td>120.199181</td>\n",
       "      <td>118.800461</td>\n",
       "      <td>118.009859</td>\n",
       "      <td>117.337743</td>\n",
       "      <td>116.579234</td>\n",
       "      <td>111.104970</td>\n",
       "      <td>104.995145</td>\n",
       "      <td>99.470369</td>\n",
       "      <td>NaN</td>\n",
       "      <td>NaN</td>\n",
       "      <td>NaN</td>\n",
       "    </tr>\n",
       "  </tbody>\n",
       "</table>\n",
       "</div>"
      ],
      "text/plain": [
       "          Date        High         Low        Open       Close       Volume   Adj Close       EMA10       EMA20       EMA30       EMA40       EMA50      EMA100      EMA150     EMA200  Buy  Sell  Action\n",
       "733 2020-11-30  120.970001  116.809998  116.970001  119.050003  169410200.0  119.050003  117.114626  116.867407  116.565523  116.141949  115.510198  110.135591  104.022778  98.520483  NaN   NaN     0.0\n",
       "734 2020-12-01  123.470001  120.010002  121.010002  122.720001  128166800.0  122.720001  118.133785  117.424797  116.962586  116.462830  115.792936  110.384787  104.270423  98.761274  NaN   NaN     0.0\n",
       "735 2020-12-02  123.370003  120.889999  122.019997  123.080002   89004200.0  123.080002  119.033097  117.963388  117.357258  116.785619  116.078703  110.636178  104.519557  99.003252  NaN   NaN     0.0\n",
       "736 2020-12-03  123.779999  122.209999  123.519997  122.940002   78967600.0  122.940002  119.743444  118.437351  117.717435  117.085833  116.347774  110.879818  104.763536  99.241428  NaN   NaN     NaN\n",
       "737 2020-12-04  122.860001  121.519997  122.599998  122.250000   78133200.0  122.250000  120.199181  118.800461  118.009859  117.337743  116.579234  111.104970  104.995145  99.470369  NaN   NaN     NaN"
      ]
     },
     "execution_count": 247,
     "metadata": {},
     "output_type": "execute_result"
    }
   ],
   "source": [
    "ema_fast = 'EMA20'\n",
    "ema_slow = 'EMA50'\n",
    "#ema = 'EMA200'\n",
    "df = crossover_signal(df, ema_fast, ema_slow)\n",
    "df.tail()"
   ]
  },
  {
   "cell_type": "code",
   "execution_count": 248,
   "metadata": {},
   "outputs": [
    {
     "data": {
      "image/png": "[encoded data removed]",
      "text/plain": [
       "<Figure size 2160x720 with 1 Axes>"
      ]
     },
     "metadata": {
      "needs_background": "light"
     },
     "output_type": "display_data"
    },
    {
     "data": {
      "image/png": "[encoded data removed]",
      "text/plain": [
       "<Figure size 2160x720 with 1 Axes>"
      ]
     },
     "metadata": {
      "needs_background": "light"
     },
     "output_type": "display_data"
    }
   ],
   "source": [
    "plot_signals(df, ticker, ema_fast, ema_slow)"
   ]
  },
  {
   "cell_type": "code",
   "execution_count": null,
   "metadata": {},
   "outputs": [],
   "source": []
  },
  {
   "cell_type": "code",
   "execution_count": null,
   "metadata": {},
   "outputs": [],
   "source": []
  },
  {
   "cell_type": "code",
   "execution_count": 249,
   "metadata": {},
   "outputs": [],
   "source": [
    "def ema_diff(df):\n",
    "    \n",
    "    df['EMA10_diff'] = (df['Adj Close'] / df['EMA10']) - 1\n",
    "    df['EMA20_diff'] = (df['Adj Close'] / df['EMA20']) - 1\n",
    "    df['EMA30_diff'] = (df['Adj Close'] / df['EMA30']) - 1\n",
    "    df['EMA40_diff'] = (df['Adj Close'] / df['EMA40']) - 1     \n",
    "    \n",
    "    \n",
    "    df['EMA50_diff'] = (df['Adj Close'] / df['EMA50']) - 1\n",
    "    df['EMA100_diff'] = (df['Adj Close'] / df['EMA100']) - 1\n",
    "    df['EMA150_diff'] = (df['Adj Close'] / df['EMA150']) - 1\n",
    "    df['EMA200_diff'] = (df['Adj Close'] / df['EMA200']) - 1\n",
    "    \n",
    "    # squeeze\n",
    "    df['EMA10_squeeze'] = (df['EMA10'] / df['EMA200']) - 1\n",
    "    df['EMA20_squeeze'] = (df['EMA20'] / df['EMA200']) - 1\n",
    "    df['EMA30_squeeze'] = (df['EMA30'] / df['EMA200']) - 1\n",
    "    df['EMA40_squeeze'] = (df['EMA40'] / df['EMA200']) - 1       \n",
    "    \n",
    "    df['EMA50_squeeze'] = (df['EMA50'] / df['EMA200']) - 1\n",
    "    df['EMA100_squeeze'] = (df['EMA100'] / df['EMA200']) - 1\n",
    "    df['EMA150_squeeze'] = (df['EMA150'] / df['EMA200']) - 1\n",
    "    df['EMA200_squeeze'] = (df['EMA200'] / df['EMA200']) - 1        \n",
    "    \n",
    "\n",
    "    return df"
   ]
  },
  {
   "cell_type": "code",
   "execution_count": 250,
   "metadata": {},
   "outputs": [],
   "source": [
    "df = ema_diff(df) \n"
   ]
  },
  {
   "cell_type": "code",
   "execution_count": null,
   "metadata": {},
   "outputs": [],
   "source": []
  },
  {
   "cell_type": "code",
   "execution_count": null,
   "metadata": {},
   "outputs": [],
   "source": []
  },
  {
   "cell_type": "code",
   "execution_count": null,
   "metadata": {
    "scrolled": false
   },
   "outputs": [],
   "source": []
  },
  {
   "cell_type": "code",
   "execution_count": null,
   "metadata": {},
   "outputs": [],
   "source": []
  },
  {
   "cell_type": "markdown",
   "metadata": {},
   "source": [
    "### Simple backtests"
   ]
  },
  {
   "cell_type": "code",
   "execution_count": 251,
   "metadata": {},
   "outputs": [
    {
     "data": {
      "text/html": [
       "<div>\n",
       "<style scoped>\n",
       "    .dataframe tbody tr th:only-of-type {\n",
       "        vertical-align: middle;\n",
       "    }\n",
       "\n",
       "    .dataframe tbody tr th {\n",
       "        vertical-align: top;\n",
       "    }\n",
       "\n",
       "    .dataframe thead th {\n",
       "        text-align: right;\n",
       "    }\n",
       "</style>\n",
       "<table border=\"1\" class=\"dataframe\">\n",
       "  <thead>\n",
       "    <tr style=\"text-align: right;\">\n",
       "      <th></th>\n",
       "      <th>Date</th>\n",
       "      <th>High</th>\n",
       "      <th>Low</th>\n",
       "      <th>Open</th>\n",
       "      <th>Close</th>\n",
       "      <th>Volume</th>\n",
       "      <th>Adj Close</th>\n",
       "      <th>EMA10</th>\n",
       "      <th>EMA20</th>\n",
       "      <th>EMA30</th>\n",
       "      <th>...</th>\n",
       "      <th>EMA150_diff</th>\n",
       "      <th>EMA200_diff</th>\n",
       "      <th>EMA10_squeeze</th>\n",
       "      <th>EMA20_squeeze</th>\n",
       "      <th>EMA30_squeeze</th>\n",
       "      <th>EMA40_squeeze</th>\n",
       "      <th>EMA50_squeeze</th>\n",
       "      <th>EMA100_squeeze</th>\n",
       "      <th>EMA150_squeeze</th>\n",
       "      <th>EMA200_squeeze</th>\n",
       "    </tr>\n",
       "  </thead>\n",
       "  <tbody>\n",
       "    <tr>\n",
       "      <th>0</th>\n",
       "      <td>2018-01-02</td>\n",
       "      <td>43.075001</td>\n",
       "      <td>42.314999</td>\n",
       "      <td>42.540001</td>\n",
       "      <td>43.064999</td>\n",
       "      <td>102223600.0</td>\n",
       "      <td>41.105534</td>\n",
       "      <td>NaN</td>\n",
       "      <td>NaN</td>\n",
       "      <td>NaN</td>\n",
       "      <td>...</td>\n",
       "      <td>NaN</td>\n",
       "      <td>NaN</td>\n",
       "      <td>NaN</td>\n",
       "      <td>NaN</td>\n",
       "      <td>NaN</td>\n",
       "      <td>NaN</td>\n",
       "      <td>NaN</td>\n",
       "      <td>NaN</td>\n",
       "      <td>NaN</td>\n",
       "      <td>NaN</td>\n",
       "    </tr>\n",
       "    <tr>\n",
       "      <th>1</th>\n",
       "      <td>2018-01-03</td>\n",
       "      <td>43.637501</td>\n",
       "      <td>42.990002</td>\n",
       "      <td>43.132500</td>\n",
       "      <td>43.057499</td>\n",
       "      <td>118071600.0</td>\n",
       "      <td>41.098373</td>\n",
       "      <td>NaN</td>\n",
       "      <td>NaN</td>\n",
       "      <td>NaN</td>\n",
       "      <td>...</td>\n",
       "      <td>NaN</td>\n",
       "      <td>NaN</td>\n",
       "      <td>NaN</td>\n",
       "      <td>NaN</td>\n",
       "      <td>NaN</td>\n",
       "      <td>NaN</td>\n",
       "      <td>NaN</td>\n",
       "      <td>NaN</td>\n",
       "      <td>NaN</td>\n",
       "      <td>NaN</td>\n",
       "    </tr>\n",
       "    <tr>\n",
       "      <th>2</th>\n",
       "      <td>2018-01-04</td>\n",
       "      <td>43.367500</td>\n",
       "      <td>43.020000</td>\n",
       "      <td>43.134998</td>\n",
       "      <td>43.257500</td>\n",
       "      <td>89738400.0</td>\n",
       "      <td>41.289268</td>\n",
       "      <td>NaN</td>\n",
       "      <td>NaN</td>\n",
       "      <td>NaN</td>\n",
       "      <td>...</td>\n",
       "      <td>NaN</td>\n",
       "      <td>NaN</td>\n",
       "      <td>NaN</td>\n",
       "      <td>NaN</td>\n",
       "      <td>NaN</td>\n",
       "      <td>NaN</td>\n",
       "      <td>NaN</td>\n",
       "      <td>NaN</td>\n",
       "      <td>NaN</td>\n",
       "      <td>NaN</td>\n",
       "    </tr>\n",
       "    <tr>\n",
       "      <th>3</th>\n",
       "      <td>2018-01-05</td>\n",
       "      <td>43.842499</td>\n",
       "      <td>43.262501</td>\n",
       "      <td>43.360001</td>\n",
       "      <td>43.750000</td>\n",
       "      <td>94640000.0</td>\n",
       "      <td>41.759361</td>\n",
       "      <td>NaN</td>\n",
       "      <td>NaN</td>\n",
       "      <td>NaN</td>\n",
       "      <td>...</td>\n",
       "      <td>NaN</td>\n",
       "      <td>NaN</td>\n",
       "      <td>NaN</td>\n",
       "      <td>NaN</td>\n",
       "      <td>NaN</td>\n",
       "      <td>NaN</td>\n",
       "      <td>NaN</td>\n",
       "      <td>NaN</td>\n",
       "      <td>NaN</td>\n",
       "      <td>NaN</td>\n",
       "    </tr>\n",
       "    <tr>\n",
       "      <th>4</th>\n",
       "      <td>2018-01-08</td>\n",
       "      <td>43.902500</td>\n",
       "      <td>43.482498</td>\n",
       "      <td>43.587502</td>\n",
       "      <td>43.587502</td>\n",
       "      <td>82271200.0</td>\n",
       "      <td>41.604263</td>\n",
       "      <td>NaN</td>\n",
       "      <td>NaN</td>\n",
       "      <td>NaN</td>\n",
       "      <td>...</td>\n",
       "      <td>NaN</td>\n",
       "      <td>NaN</td>\n",
       "      <td>NaN</td>\n",
       "      <td>NaN</td>\n",
       "      <td>NaN</td>\n",
       "      <td>NaN</td>\n",
       "      <td>NaN</td>\n",
       "      <td>NaN</td>\n",
       "      <td>NaN</td>\n",
       "      <td>NaN</td>\n",
       "    </tr>\n",
       "  </tbody>\n",
       "</table>\n",
       "<p>5 rows × 34 columns</p>\n",
       "</div>"
      ],
      "text/plain": [
       "        Date       High        Low       Open      Close       Volume  Adj Close  EMA10  EMA20  EMA30  ...  EMA150_diff  EMA200_diff  EMA10_squeeze  EMA20_squeeze  EMA30_squeeze  EMA40_squeeze  EMA50_squeeze  EMA100_squeeze  EMA150_squeeze  EMA200_squeeze\n",
       "0 2018-01-02  43.075001  42.314999  42.540001  43.064999  102223600.0  41.105534    NaN    NaN    NaN  ...          NaN          NaN            NaN            NaN            NaN            NaN            NaN             NaN             NaN             NaN\n",
       "1 2018-01-03  43.637501  42.990002  43.132500  43.057499  118071600.0  41.098373    NaN    NaN    NaN  ...          NaN          NaN            NaN            NaN            NaN            NaN            NaN             NaN             NaN             NaN\n",
       "2 2018-01-04  43.367500  43.020000  43.134998  43.257500   89738400.0  41.289268    NaN    NaN    NaN  ...          NaN          NaN            NaN            NaN            NaN            NaN            NaN             NaN             NaN             NaN\n",
       "3 2018-01-05  43.842499  43.262501  43.360001  43.750000   94640000.0  41.759361    NaN    NaN    NaN  ...          NaN          NaN            NaN            NaN            NaN            NaN            NaN             NaN             NaN             NaN\n",
       "4 2018-01-08  43.902500  43.482498  43.587502  43.587502   82271200.0  41.604263    NaN    NaN    NaN  ...          NaN          NaN            NaN            NaN            NaN            NaN            NaN             NaN             NaN             NaN\n",
       "\n",
       "[5 rows x 34 columns]"
      ]
     },
     "execution_count": 251,
     "metadata": {},
     "output_type": "execute_result"
    }
   ],
   "source": [
    "df.head()"
   ]
  },
  {
   "cell_type": "markdown",
   "metadata": {},
   "source": [
    "#### Long backtest"
   ]
  },
  {
   "cell_type": "code",
   "execution_count": 252,
   "metadata": {},
   "outputs": [],
   "source": [
    "profit_target = 1.40   # 15% gain, 0 means turned off\n",
    "\n",
    "\n",
    "\n",
    "holding = 0\n",
    "balance_list = []\n",
    "partial_balance = 0\n",
    "total_balance = 0\n",
    "\n",
    "buy_spread=1.01\n",
    "sell_spread=0.99"
   ]
  },
  {
   "cell_type": "code",
   "execution_count": 253,
   "metadata": {},
   "outputs": [
    {
     "name": "stdout",
     "output_type": "stream",
     "text": [
      "buy_price: 41.92542964935303\n",
      "sell_price: 39.1952331161499\n",
      "buy_price: 42.80628616333008\n",
      "sell_price: 49.57769119262695\n",
      "buy_price: 42.025796241760254\n",
      "sell_price: 43.431215858459474\n",
      "buy_price: 47.81808906555176\n",
      "sell_price: 66.30524848937988\n",
      "buy_price: 71.61438781738282\n",
      "sell_price: 101.85615211486817\n"
     ]
    }
   ],
   "source": [
    "# Counts only closed position pairs\n",
    "# buy and sell of given position has been performed\n",
    "# at the end can still have one open position, that is waiting to be sold\n",
    "\n",
    "for i in range(len(df)):\n",
    "    #print(i)\n",
    "    \n",
    "    # buying if not holding yet                                 # long, BUY to OPEN\n",
    "    if ( holding==0 and df['Action'][i]==1 ):\n",
    "        buy_price = df['Adj Close'][i] * buy_spread\n",
    "        #buy_price = df['Open'][i] * buy_spread\n",
    "        print('buy_price:',buy_price)\n",
    "        holding=1\n",
    "        \n",
    "    # profit target checking if specified for long entries  \n",
    "    # will sell at the market open once target reached, so I dont wait to another day\n",
    "    elif (holding==1 and profit_target > 1.0 and df['Open'][i]/buy_price >= profit_target):\n",
    "        sell_price = df['Open'][i] * sell_spread    \n",
    "        print('sell_price:',sell_price)\n",
    "        holding=0    \n",
    "        partial_balance= sell_price - buy_price\n",
    "        balance_list.append(partial_balance)\n",
    "        \n",
    "    # selling when already holding                              # long, SELL to CLOSE\n",
    "    elif ( holding==1 and df['Action'][i]==-1 ):    \n",
    "        sell_price = df['Adj Close'][i] * sell_spread\n",
    "        #sell_price = df['Open'][i] * sell_spread\n",
    "        print('sell_price:',sell_price)\n",
    "        holding=0\n",
    "        partial_balance= sell_price - buy_price\n",
    "        balance_list.append(partial_balance)\n",
    "        \n",
    "    else:\n",
    "        pass\n",
    " \n",
    "\n",
    "# if im still holding position, add unrealized profit/loss to the total balance\n",
    "# with last known Adj Close price\n",
    "if holding==1:\n",
    "    partial_balance= df['Adj Close'].iloc[-1] - buy_price    \n",
    "    balance_list.append(partial_balance)\n",
    "\n"
   ]
  },
  {
   "cell_type": "markdown",
   "metadata": {},
   "source": [
    "#### profit from long strategy with profit targets set:"
   ]
  },
  {
   "cell_type": "code",
   "execution_count": 254,
   "metadata": {},
   "outputs": [
    {
     "name": "stdout",
     "output_type": "stream",
     "text": [
      "54.17555183410643\n"
     ]
    }
   ],
   "source": [
    "total_balance = sum(balance_list)    \n",
    "print(total_balance) "
   ]
  },
  {
   "cell_type": "code",
   "execution_count": 255,
   "metadata": {},
   "outputs": [
    {
     "name": "stdout",
     "output_type": "stream",
     "text": [
      "am i still holding some position?: 0\n"
     ]
    }
   ],
   "source": [
    "print('am i still holding some position?:', holding)"
   ]
  },
  {
   "cell_type": "code",
   "execution_count": 256,
   "metadata": {},
   "outputs": [
    {
     "data": {
      "text/plain": [
       "733    119.050003\n",
       "734    122.720001\n",
       "735    123.080002\n",
       "736    122.940002\n",
       "737    122.250000\n",
       "Name: Adj Close, dtype: float64"
      ]
     },
     "execution_count": 256,
     "metadata": {},
     "output_type": "execute_result"
    }
   ],
   "source": [
    "df['Adj Close'].tail()"
   ]
  },
  {
   "cell_type": "markdown",
   "metadata": {},
   "source": [
    "#### Short backtest"
   ]
  },
  {
   "cell_type": "code",
   "execution_count": 257,
   "metadata": {},
   "outputs": [],
   "source": [
    "# not counting overnight short fees\n",
    "# instead of it we can simulate it with larger spread for example\n",
    "\n",
    "holding = 0\n",
    "balance_list = []\n",
    "partial_balance = 0\n",
    "total_balance = 0\n",
    "\n",
    "# reset price values to be sure\n",
    "buy_price = 0\n",
    "sell_price = 0\n",
    "\n",
    "buy_spread=1.01\n",
    "sell_spread=0.99"
   ]
  },
  {
   "cell_type": "code",
   "execution_count": 258,
   "metadata": {},
   "outputs": [
    {
     "name": "stdout",
     "output_type": "stream",
     "text": [
      "sell_price: 40.988478927612306\n",
      "buy_price: 41.92542964935303\n",
      "sell_price: 39.1952331161499\n",
      "buy_price: 42.80628616333008\n",
      "sell_price: 49.57769119262695\n",
      "buy_price: 42.025796241760254\n",
      "sell_price: 43.431215858459474\n",
      "buy_price: 47.81808906555176\n",
      "sell_price: 70.51342826843262\n",
      "buy_price: 71.61438781738282\n"
     ]
    }
   ],
   "source": [
    "# Counts only closed position pairs\n",
    "# buy and sell of given position has been performed\n",
    "# at the end can still have one open position, that is waiting to be sold\n",
    "\n",
    "for i in range(len(df)):\n",
    "    #print(i)\n",
    "    # buying if not holding yet\n",
    "    if ( holding==1 and df['Action'][i]==1 ):                # shorting, BUY to CLOSE\n",
    "        buy_price = df['Adj Close'][i] * buy_spread\n",
    "        #buy_price = df['Open'][i] * buy_spread\n",
    "        print('buy_price:',buy_price)\n",
    "        holding=0\n",
    "        \n",
    "        # closing position and computing partial profit\n",
    "        partial_balance= sell_price - buy_price\n",
    "        balance_list.append(partial_balance)        \n",
    "        \n",
    "    # selling when already holding    \n",
    "    elif ( holding==0 and df['Action'][i]==-1 ):             # shorting, SELL to OPEN\n",
    "        sell_price = df['Adj Close'][i] * sell_spread\n",
    "        #sell_price = df['Open'][i] * sell_spread\n",
    "        print('sell_price:',sell_price)\n",
    "        holding=1\n",
    "    else:\n",
    "        pass\n",
    " \n",
    "\n",
    "# if im still holding SHORT position, add unrealized profit/loss to the total balance\n",
    "# with last known Adj Close price\n",
    "if holding==1:\n",
    "    partial_balance= df['Adj Close'].iloc[-1] - buy_price    \n",
    "    balance_list.append(partial_balance)\n",
    "\n"
   ]
  },
  {
   "cell_type": "markdown",
   "metadata": {},
   "source": [
    "#### profit from shorting:"
   ]
  },
  {
   "cell_type": "code",
   "execution_count": 259,
   "metadata": {},
   "outputs": [
    {
     "name": "stdout",
     "output_type": "stream",
     "text": [
      "-2.48394157409669\n"
     ]
    }
   ],
   "source": [
    "total_balance = sum(balance_list)    \n",
    "print(total_balance) "
   ]
  },
  {
   "cell_type": "code",
   "execution_count": 260,
   "metadata": {},
   "outputs": [
    {
     "name": "stdout",
     "output_type": "stream",
     "text": [
      "am i still holding some position?: 0\n"
     ]
    }
   ],
   "source": [
    "print('am i still holding some position?:', holding)"
   ]
  },
  {
   "cell_type": "code",
   "execution_count": 261,
   "metadata": {},
   "outputs": [
    {
     "data": {
      "text/plain": [
       "733    119.050003\n",
       "734    122.720001\n",
       "735    123.080002\n",
       "736    122.940002\n",
       "737    122.250000\n",
       "Name: Adj Close, dtype: float64"
      ]
     },
     "execution_count": 261,
     "metadata": {},
     "output_type": "execute_result"
    }
   ],
   "source": [
    "df['Adj Close'].tail()"
   ]
  },
  {
   "cell_type": "code",
   "execution_count": null,
   "metadata": {},
   "outputs": [],
   "source": []
  },
  {
   "cell_type": "code",
   "execution_count": null,
   "metadata": {},
   "outputs": [],
   "source": []
  },
  {
   "cell_type": "code",
   "execution_count": null,
   "metadata": {},
   "outputs": [],
   "source": []
  },
  {
   "cell_type": "code",
   "execution_count": null,
   "metadata": {},
   "outputs": [],
   "source": []
  },
  {
   "cell_type": "code",
   "execution_count": null,
   "metadata": {},
   "outputs": [],
   "source": []
  },
  {
   "cell_type": "code",
   "execution_count": null,
   "metadata": {},
   "outputs": [],
   "source": []
  },
  {
   "cell_type": "code",
   "execution_count": null,
   "metadata": {},
   "outputs": [],
   "source": []
  },
  {
   "cell_type": "code",
   "execution_count": null,
   "metadata": {},
   "outputs": [],
   "source": []
  }
 ],
 "metadata": {
  "kernelspec": {
   "display_name": "Python 3",
   "language": "python",
   "name": "python3"
  },
  "language_info": {
   "codemirror_mode": {
    "name": "ipython",
    "version": 3
   },
   "file_extension": ".py",
   "mimetype": "text/x-python",
   "name": "python",
   "nbconvert_exporter": "python",
   "pygments_lexer": "ipython3",
   "version": "3.6.12"
  }
 },
 "nbformat": 4,
 "nbformat_minor": 4
}
